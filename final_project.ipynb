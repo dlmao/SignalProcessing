{
 "cells": [
  {
   "cell_type": "markdown",
   "metadata": {},
   "source": [
    "# Final Project: Music Genre Clustering"
   ]
  },
  {
   "cell_type": "code",
   "execution_count": null,
   "metadata": {},
   "outputs": [],
   "source": [
    "# the following packages can be used to extract features from audio data\n",
    "# from pyAudioAnalysis import audioBasicIO \n",
    "# from pyAudioAnalysis import ShortTermFeatures\n",
    "# import librosa # https://librosa.org/doc/main/feature.html\n",
    "# you may use other packages too."
   ]
  },
  {
   "cell_type": "markdown",
   "metadata": {},
   "source": [
    "Please do a clustering analysis on the provided sound tracks. You may use any methods for feature engineering, but the clustering methods should be limited to the methods discussed in this class. Do not hand label the tracks (it will be considered as cheating)."
   ]
  },
  {
   "cell_type": "code",
   "execution_count": null,
   "metadata": {},
   "outputs": [],
   "source": []
  },
  {
   "cell_type": "code",
   "execution_count": null,
   "metadata": {},
   "outputs": [],
   "source": []
  },
  {
   "cell_type": "code",
   "execution_count": null,
   "metadata": {},
   "outputs": [],
   "source": []
  },
  {
   "cell_type": "code",
   "execution_count": null,
   "metadata": {},
   "outputs": [],
   "source": []
  },
  {
   "cell_type": "code",
   "execution_count": null,
   "metadata": {},
   "outputs": [],
   "source": []
  },
  {
   "cell_type": "code",
   "execution_count": null,
   "metadata": {},
   "outputs": [],
   "source": []
  },
  {
   "cell_type": "code",
   "execution_count": null,
   "metadata": {},
   "outputs": [],
   "source": []
  },
  {
   "cell_type": "code",
   "execution_count": null,
   "metadata": {},
   "outputs": [],
   "source": []
  },
  {
   "cell_type": "code",
   "execution_count": null,
   "metadata": {},
   "outputs": [],
   "source": []
  },
  {
   "cell_type": "code",
   "execution_count": null,
   "metadata": {},
   "outputs": [],
   "source": []
  },
  {
   "cell_type": "code",
   "execution_count": null,
   "metadata": {},
   "outputs": [],
   "source": []
  },
  {
   "cell_type": "markdown",
   "metadata": {},
   "source": [
    "# Submission to leaderboard\n",
    "\n",
    "You will get feedback of your clustering result by submitting to the leaderboard. Each team will have 10 chances. Please submit a submission log as an appendix in your final report, which should record your ari score (leadboard feedback), and your improvement plan (in bullet points, keep it concise) between two submissions.\n",
    "\n",
    "There are two types of submissions.\n",
    "\n",
    "### Stage Submission\n",
    "\n",
    "Each group can submit your results up to ten times. You will only get the range of your ari scores to have a rough check of your clusters. This is by no means a supervised learning project. So your goal shouldn't be to improve this ari score. It only serves as an indicator whether you need to work harder to improve your clustering scheme.\n",
    "\n",
    "### Final Submission\n",
    "\n",
    "You can only run the final submission once! It is when you finished all the writing and everything is finalized. Change isFinal = 'yes' then run this cell. You must keep the succesfull message from the server when you submit your jupyter notebook. Once you made the final submission, the server will not accept any further submission of any kind."
   ]
  },
  {
   "cell_type": "code",
   "execution_count": null,
   "metadata": {},
   "outputs": [],
   "source": [
    "labels = list(range(90)) \n",
    "vsID = \"\"  \n",
    "URL = \"\"\n",
    "isFinal = 'no'\n",
    "\n",
    "# 1. put your clustering result in labels;\n",
    "#  if you have k clusters, the labels should be a vector of elements taking values\n",
    "#  from 0~ k-1, there must not have a cluster with no members.\n",
    "# 2. put your group ID as a string in vsID, it is unique for each group\n",
    "# 3. change the URL to the URL that will be published on Canvas.\n",
    "# 4. To make your final submission, change isFinal to 'yes'\n",
    "\n",
    "### Do not change any code except the following block\n",
    "### your code starts here\n",
    "\n",
    "\n",
    "\n",
    "### your code ends here\n",
    "\n",
    "\n",
    "import requests\n",
    "import json\n",
    "submission = {}\n",
    "submission['vsID'] = vsID\n",
    "submission['labels'] = \",\".join( [ str( int(x)) for x in labels   ])\n",
    "submission['isFinal'] = isFinal\n",
    "r = requests.get(url = URL, params = submission)\n",
    "\n",
    "print(r.json()['body'])"
   ]
  },
  {
   "cell_type": "markdown",
   "metadata": {},
   "source": [
    "# <font color= \"blue\"> Submission Instructions</font>\n",
    "\n",
    "1. Change the isFinal variable to be 'yes' in the submission to leaderboard cell, run it just once to get submission sucessful message.\n",
    "2. Select File -> Download as -> PDF via LaTeX\n",
    "3. Submit your PDF on Gradescope. There should be three different parts to submit on gradescope, the report pdf file, jupyter notebook pdf file and the methodology pdf file.\n",
    "4. Pack all the relevant files (you can save your features in a different file, feature.csv) into a zipfile yourGroupNumber.zip (group1.zip for example) and upload it to Canvas."
   ]
  },
  {
   "cell_type": "code",
   "execution_count": null,
   "metadata": {},
   "outputs": [],
   "source": []
  }
 ],
 "metadata": {
  "kernelspec": {
   "display_name": "Python 3",
   "language": "python",
   "name": "python3"
  },
  "language_info": {
   "codemirror_mode": {
    "name": "ipython",
    "version": 3
   },
   "file_extension": ".py",
   "mimetype": "text/x-python",
   "name": "python",
   "nbconvert_exporter": "python",
   "pygments_lexer": "ipython3",
   "version": "3.8.5"
  }
 },
 "nbformat": 4,
 "nbformat_minor": 4
}
